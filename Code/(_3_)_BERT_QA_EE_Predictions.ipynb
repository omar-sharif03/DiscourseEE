{
  "cells": [
    {
      "cell_type": "code",
      "execution_count": null,
      "metadata": {
        "id": "63xqDFkgVy_K"
      },
      "outputs": [],
      "source": [
        "%%capture\n",
        "!pip install langchain-openai\n",
        "!pip install langchain\n",
        "!pip install transformers[torch] tokenizers datasets evaluate rouge_score sentencepiece huggingface_hub --upgrade\n",
        "!pip install bert_score\n"
      ]
    },
    {
      "cell_type": "code",
      "source": [
        "import nltk\n",
        "from datasets import load_dataset, Dataset, Features, Value, ClassLabel\n",
        "import evaluate\n",
        "import numpy as np\n",
        "from transformers import T5Tokenizer, DataCollatorForSeq2Seq\n",
        "from transformers import T5ForConditionalGeneration, Seq2SeqTrainingArguments, Seq2SeqTrainer"
      ],
      "metadata": {
        "id": "t6Cg9dED388c"
      },
      "execution_count": null,
      "outputs": []
    },
    {
      "cell_type": "markdown",
      "metadata": {
        "id": "Np7h605dW4WJ"
      },
      "source": [
        "##Reading the data\n",
        "Using all the functions from previous script to read the data."
      ]
    },
    {
      "cell_type": "code",
      "execution_count": null,
      "metadata": {
        "colab": {
          "base_uri": "https://localhost:8080/"
        },
        "id": "jyBfzSYQW379",
        "outputId": "aa462de2-4d60-4878-a59f-13a2b0fa494b"
      },
      "outputs": [
        {
          "output_type": "stream",
          "name": "stdout",
          "text": [
            "Mounted at /content/drive\n"
          ]
        }
      ],
      "source": [
        "from google.colab import drive\n",
        "drive.mount('/content/drive')"
      ]
    },
    {
      "cell_type": "code",
      "execution_count": null,
      "metadata": {
        "id": "6XK7rUxsXP1u"
      },
      "outputs": [],
      "source": [
        "import os, json\n",
        "import numpy as np\n",
        "from argparse import ArgumentParser\n",
        "from tqdm import tqdm\n",
        "from collections import defaultdict\n",
        "import pandas as pd\n",
        "from pprint import pprint\n",
        "from datetime import datetime\n",
        "import copy"
      ]
    },
    {
      "cell_type": "code",
      "execution_count": null,
      "metadata": {
        "colab": {
          "base_uri": "https://localhost:8080/"
        },
        "id": "LxG5kRnz8VA9",
        "outputId": "fd13cbda-beaa-4409-d057-5c9fbcb664ad"
      },
      "outputs": [
        {
          "output_type": "stream",
          "name": "stdout",
          "text": [
            "246 50 100\n"
          ]
        }
      ],
      "source": [
        "#@title Reading train, dev and test data\n",
        "folder_path = 'path'\n",
        "\n",
        "def read_json_file(name):\n",
        "    with open(name, 'r') as f:\n",
        "        data = json.load(f)\n",
        "        return data\n",
        "\n",
        "def read_data():\n",
        "    train = read_json_file(os.path.join(folder_path, \"train.json\"))\n",
        "    dev = read_json_file(os.path.join(folder_path, \"dev.json\"))\n",
        "    test = read_json_file(os.path.join(folder_path, \"test.json\"))\n",
        "\n",
        "    return train, dev, test\n",
        "\n",
        "train, dev, test = read_data()\n",
        "print(len(train), len(dev), len(test))"
      ]
    },
    {
      "cell_type": "markdown",
      "source": [
        "## Preparing the Question and Answer pair"
      ],
      "metadata": {
        "id": "5Vk3wRn_5iml"
      }
    },
    {
      "cell_type": "code",
      "source": [
        "def read_json_file(name):\n",
        "    folder_path = 'Final-Data'\n",
        "    name = os.path.join(folder_path, name)\n",
        "    with open(name, 'r') as f:\n",
        "        data = json.load(f)\n",
        "        return data\n",
        "\n",
        "def save_json(json_data, file_name):\n",
        "    json_data = json.dumps(json_data)\n",
        "    print(file_name)\n",
        "    with open(file_name, \"w\") as json_file:\n",
        "          json_file.write(json_data)\n",
        "\n",
        "role_details = read_json_file(f'role_definitions_question_guided.json')\n",
        "pprint(role_details)\n",
        "instruction_prefix = '''Concisely extract the following argument from the post comment pair.\n",
        "Do not use more than 12 words to describe an argument. Return 'null' if any arugment is not present.'''"
      ],
      "metadata": {
        "colab": {
          "base_uri": "https://localhost:8080/"
        },
        "id": "EMbO1QTI6yF7",
        "outputId": "6097e71a-1aee-49ee-9f58-4dd6b5cdd9d2"
      },
      "execution_count": null,
      "outputs": [
        {
          "output_type": "stream",
          "name": "stdout",
          "text": [
            "{'relapse': {'description': '',\n",
            "             'event-specific-arguments': {'condition': 'What is the substance '\n",
            "                                                       'use history/disorder '\n",
            "                                                       'from which the subject '\n",
            "                                                       'had previously '\n",
            "                                                       'recovered or was in '\n",
            "                                                       'the process of '\n",
            "                                                       'recovering?',\n",
            "                                          'existing/current-medications': 'Which '\n",
            "                                                                          'medication '\n",
            "                                                                          'did '\n",
            "                                                                          'the '\n",
            "                                                                          'subject '\n",
            "                                                                          'use '\n",
            "                                                                          'before '\n",
            "                                                                          'the '\n",
            "                                                                          'relapse?',\n",
            "                                          'relapse-duration': 'How long does '\n",
            "                                                              'the relapse '\n",
            "                                                              'persist?',\n",
            "                                          'relapse-intervention': 'What '\n",
            "                                                                  'measures '\n",
            "                                                                  'are taken '\n",
            "                                                                  'to address '\n",
            "                                                                  'or prevent '\n",
            "                                                                  'the '\n",
            "                                                                  'relapse?',\n",
            "                                          'relapse-substance': 'Which '\n",
            "                                                               'substance was '\n",
            "                                                               'used in the '\n",
            "                                                               'relapse?',\n",
            "                                          'trigger': 'What factors or events '\n",
            "                                                     'contribute to relapse?',\n",
            "                                          'waiting-time': 'Waiting time after '\n",
            "                                                          'the last dose of '\n",
            "                                                          'relapse?'},\n",
            "             'main-arguments': {'effects': 'What are the outcomes or side '\n",
            "                                           'effects of the treatments?',\n",
            "                                'relapse-event': 'How does the occurrence of '\n",
            "                                                 'taking or using addictive '\n",
            "                                                 'substances happen?',\n",
            "                                'resuming-moud-after-relapse': 'What are the '\n",
            "                                                               'events the '\n",
            "                                                               'subject is '\n",
            "                                                               'doing or '\n",
            "                                                               'intends to '\n",
            "                                                               'follow after '\n",
            "                                                               'the last '\n",
            "                                                               'relapse dose?',\n",
            "                                'subject/patient': 'How can you describe the '\n",
            "                                                   'individual or patient '\n",
            "                                                   'experiencing the relapse?'},\n",
            "             'subject-effect-arguments': {'age': 'What is the Age of the '\n",
            "                                                 'subject/patient?',\n",
            "                                          'conditions': 'What are the '\n",
            "                                                        'Pre-existing or '\n",
            "                                                        'co-morbid conditions '\n",
            "                                                        'of the '\n",
            "                                                        'subject/patient?',\n",
            "                                          'gender': 'What is the Gender of the '\n",
            "                                                    'subject/patient?',\n",
            "                                          'intervention': 'What measures are '\n",
            "                                                          'taken to address or '\n",
            "                                                          'reduce side '\n",
            "                                                          'effects?',\n",
            "                                          'severity': 'How severe are the side '\n",
            "                                                      'effects?',\n",
            "                                          'side-effect-duration': 'How long '\n",
            "                                                                  'has the '\n",
            "                                                                  'subject '\n",
            "                                                                  'been '\n",
            "                                                                  'experiencing '\n",
            "                                                                  'the side '\n",
            "                                                                  'effects?',\n",
            "                                          'side-effects': 'What are the side '\n",
            "                                                          'effects the subject '\n",
            "                                                          'is experiencing or '\n",
            "                                                          'expects to '\n",
            "                                                          'experience?',\n",
            "                                          'start-time': 'When did the subject '\n",
            "                                                        'start experiencing '\n",
            "                                                        'the side effects?'}},\n",
            " 'taking-moud': {'description': 'Description of the event.',\n",
            "                 'event-specific-arguments': {'dosage': 'What is the current '\n",
            "                                                        'or previous dosage of '\n",
            "                                                        'the Medications?',\n",
            "                                              'frequency': 'How often are '\n",
            "                                                           'medications taken '\n",
            "                                                           '(per day, week, '\n",
            "                                                           'month)?',\n",
            "                                              'manner': 'How are medications '\n",
            "                                                        'taken orally/ '\n",
            "                                                        'sublingually/ as '\n",
            "                                                        'injections?',\n",
            "                                              'medications': 'What are the '\n",
            "                                                             'Drugs/medications '\n",
            "                                                             'used in the '\n",
            "                                                             'Treatment?',\n",
            "                                              'purpose': 'What are the reasons '\n",
            "                                                         'or intentions behind '\n",
            "                                                         'this medication?',\n",
            "                                              'timing': 'When medications are '\n",
            "                                                        'taken (night, '\n",
            "                                                        'morning, etc.)?',\n",
            "                                              'treatment-duration': 'How long '\n",
            "                                                                    'the '\n",
            "                                                                    'subject '\n",
            "                                                                    'is taking '\n",
            "                                                                    'the '\n",
            "                                                                    'medication?'},\n",
            "                 'main-arguments': {'effects': 'What are the outcomes or side '\n",
            "                                               'effects of the treatments?',\n",
            "                                    'subject/patient': 'How can you describe '\n",
            "                                                       'the individual or '\n",
            "                                                       'patient involved?',\n",
            "                                    'treatment': 'What treatments the '\n",
            "                                                 'subject/patient prescribed '\n",
            "                                                 'or undergoing?'},\n",
            "                 'subject-effect-arguments': {'age': 'What is the Age of the '\n",
            "                                                     'subject/patient?',\n",
            "                                              'conditions': 'What are the '\n",
            "                                                            'Pre-existing or '\n",
            "                                                            'co-morbid '\n",
            "                                                            'conditions of the '\n",
            "                                                            'subject/patient?',\n",
            "                                              'gender': 'What is the Gender of '\n",
            "                                                        'the subject/patient?',\n",
            "                                              'intervention': 'What measures '\n",
            "                                                              'are taken to '\n",
            "                                                              'address or '\n",
            "                                                              'reduce side '\n",
            "                                                              'effects?',\n",
            "                                              'severity': 'How severe are the '\n",
            "                                                          'side effects?',\n",
            "                                              'side-effect-duration': 'How '\n",
            "                                                                      'long '\n",
            "                                                                      'has the '\n",
            "                                                                      'subject '\n",
            "                                                                      'been '\n",
            "                                                                      'experiencing '\n",
            "                                                                      'the '\n",
            "                                                                      'side '\n",
            "                                                                      'effects?',\n",
            "                                              'side-effects': 'What are the '\n",
            "                                                              'side effects '\n",
            "                                                              'the subject is '\n",
            "                                                              'experiencing or '\n",
            "                                                              'expects to '\n",
            "                                                              'experience?',\n",
            "                                              'start-time': 'When did the '\n",
            "                                                            'subject start '\n",
            "                                                            'experiencing the '\n",
            "                                                            'side effects?'}},\n",
            " 'tapering': {'description': '',\n",
            "              'event-specific-arguments': {'condition': 'What was the state or '\n",
            "                                                        'situations of the '\n",
            "                                                        'subject before '\n",
            "                                                        'tapering.',\n",
            "                                           'current-dosage': 'What is the '\n",
            "                                                             'current dosage '\n",
            "                                                             'of the drugs?',\n",
            "                                           'goal-dosage': 'What is the goal '\n",
            "                                                          'dosage the subject '\n",
            "                                                          'wants to achieve?',\n",
            "                                           'initial-dosage': 'What are the '\n",
            "                                                             'initial dosages '\n",
            "                                                             'of the drugs?',\n",
            "                                           'start-time': 'When did they start '\n",
            "                                                         'tapering?',\n",
            "                                           'taper-medications': 'What are the '\n",
            "                                                                'drugs/medications '\n",
            "                                                                'used during '\n",
            "                                                                'tapering?',\n",
            "                                           'target-duration': 'How long does '\n",
            "                                                              'it take to go '\n",
            "                                                              'from the start '\n",
            "                                                              'to the intended '\n",
            "                                                              'dosage or quit?',\n",
            "                                           'trigger': 'What factors or events '\n",
            "                                                      'contribute to tapering?',\n",
            "                                           'type': 'Is the subject '\n",
            "                                                   'self-tapering or following '\n",
            "                                                   'prescribed tapering?'},\n",
            "              'main-arguments': {'effects': 'What are the outcomes or side '\n",
            "                                            'effects of the treatments?',\n",
            "                                 'subject/patient': 'How can you describe the '\n",
            "                                                    'individual or patient '\n",
            "                                                    'involved?',\n",
            "                                 'tapering-event': 'What are the tapering '\n",
            "                                                   'steps (drugs, start '\n",
            "                                                   'dosage, duration, goal '\n",
            "                                                   'dosage).'},\n",
            "              'subject-effect-arguments': {'age': 'What is the Age of the '\n",
            "                                                  'subject/patient?',\n",
            "                                           'conditions': 'What are the '\n",
            "                                                         'Pre-existing or '\n",
            "                                                         'co-morbid conditions '\n",
            "                                                         'of the '\n",
            "                                                         'subject/patient?',\n",
            "                                           'gender': 'What is the Gender of '\n",
            "                                                     'the subject/patient?',\n",
            "                                           'intervention': 'What measures are '\n",
            "                                                           'taken to address '\n",
            "                                                           'or reduce side '\n",
            "                                                           'effects?',\n",
            "                                           'severity': 'How severe are the '\n",
            "                                                       'side effects?',\n",
            "                                           'side-effect-duration': 'How long '\n",
            "                                                                   'has the '\n",
            "                                                                   'subject '\n",
            "                                                                   'been '\n",
            "                                                                   'experiencing '\n",
            "                                                                   'the side '\n",
            "                                                                   'effects?',\n",
            "                                           'side-effects': 'What are the side '\n",
            "                                                           'effects the '\n",
            "                                                           'subject is '\n",
            "                                                           'experiencing or '\n",
            "                                                           'expects to '\n",
            "                                                           'experience?',\n",
            "                                           'start-time': 'When did the subject '\n",
            "                                                         'start experiencing '\n",
            "                                                         'the side effects?'}}}\n"
          ]
        }
      ]
    },
    {
      "cell_type": "code",
      "source": [
        "#creating the QA pair with the instructions.\n",
        "\n",
        "def create_QA_pair(data, role_details):\n",
        "    arg_types = ['main-arguments', 'event-specific-arguments', 'subject-effect-arguments']\n",
        "    qa_dt = []\n",
        "    i=0\n",
        "    for dt in data:\n",
        "        post, comment, label = dt['text1'], dt['text2'], dt['label']\n",
        "        context = f'''Post: {post}\\nComment: {comment}''' ## adding post and comment togethar to create context\n",
        "\n",
        "        for arg_typ in arg_types:\n",
        "            role_descriptions = role_details[label][arg_typ] #chosing the argument details from the correspond event\n",
        "            arguments = list(role_descriptions.keys()) ##getting specific arguments\n",
        "\n",
        "            for arrg in arguments:\n",
        "                arg_question = role_details[label][arg_typ][arrg]\n",
        "                answer = dt['ground-truth-arguments'][arg_typ][arrg]\n",
        "                input_dict = {\n",
        "                  'id' : f'ins_{i}',\n",
        "                  'instruction' : instruction_prefix,\n",
        "                  'context' : context,\n",
        "                  'question' : arg_question,\n",
        "                  'answer' : \", \".join(answer)\n",
        "                }\n",
        "                i+=1\n",
        "                qa_dt.append(input_dict)\n",
        "    return qa_dt\n"
      ],
      "metadata": {
        "id": "Vyde163z5iZa"
      },
      "execution_count": null,
      "outputs": []
    },
    {
      "cell_type": "code",
      "source": [
        "from transformers import pipeline\n",
        "\n",
        "model_checkpoint = \"huggingface-course/bert-finetuned-squad\"\n",
        "question_answerer = pipeline(\"question-answering\", model=model_checkpoint)"
      ],
      "metadata": {
        "id": "pyhC6W6LJJvF"
      },
      "execution_count": null,
      "outputs": []
    },
    {
      "cell_type": "code",
      "source": [
        "def create_predictions(data, role_details, decoded_predictions):\n",
        "    i = 0\n",
        "    arg_types = ['main-arguments', 'event-specific-arguments', 'subject-effect-arguments']\n",
        "    finallist = []\n",
        "    for dt in data:\n",
        "        pprint(dt)\n",
        "        dx = dt\n",
        "        label = dt['label']\n",
        "        predictions = {}\n",
        "        for arg_typ in arg_types:\n",
        "            role_descriptions = role_details[label][arg_typ] #chosing the argument details from the correspond event\n",
        "            arguments = list(role_descriptions.keys()) ##getting specific arguments\n",
        "            predictions[arg_typ] = {}\n",
        "            for arrg in arguments:\n",
        "                print(arg_typ, arrg)\n",
        "                print(decoded_predictions[i])\n",
        "                value = decoded_predictions[i]\n",
        "                value_list = [item.replace(\"'\", \"\").strip() for item in value.split(',')]\n",
        "                predictions[arg_typ][arrg] = value_list\n",
        "                i+=1\n",
        "        dx['predictions'] = predictions\n",
        "        pprint(dx)\n",
        "        finallist.append(dx)\n",
        "    return finallist"
      ],
      "metadata": {
        "id": "SiS8vM53krle"
      },
      "execution_count": null,
      "outputs": []
    },
    {
      "cell_type": "code",
      "source": [
        "def save_json(json_data, file_name):\n",
        "    json_data = json.dumps(json_data)\n",
        "    print(file_name)\n",
        "    with open(file_name, \"w\") as json_file:\n",
        "          json_file.write(json_data)\n"
      ],
      "metadata": {
        "id": "xuYulKz1kC_Y"
      },
      "execution_count": null,
      "outputs": []
    },
    {
      "cell_type": "code",
      "source": [
        "%%time\n",
        "numbers = ['0', '1', '2']\n",
        "for number in numbers:\n",
        "    print(number)\n",
        "    predictions = []\n",
        "    for qa in qa_test:\n",
        "        question = qa['question']\n",
        "        context = qa['context']\n",
        "        # print(question)\n",
        "        # print(context)\n",
        "        result = question_answerer(question=question, context=context)\n",
        "        print(result)\n",
        "        predictions.append(result['answer'])\n",
        "    final_data = create_predictions(test, role_details, predictions)\n",
        "    folder_path= 'Argument-Extraction-Predictions'\n",
        "    file_name = f'{number}-extractive_qa_fine_tuned_squad-predictions.json'\n",
        "    save_json(final_data, os.path.join(folder_path, file_name))"
      ],
      "metadata": {
        "id": "tnDosqCoJYAS"
      },
      "execution_count": null,
      "outputs": []
    }
  ],
  "metadata": {
    "colab": {
      "provenance": [],
      "machine_shape": "hm",
      "gpuType": "T4"
    },
    "kernelspec": {
      "display_name": "Python 3",
      "name": "python3"
    },
    "language_info": {
      "name": "python"
    },
    "accelerator": "GPU"
  },
  "nbformat": 4,
  "nbformat_minor": 0
}