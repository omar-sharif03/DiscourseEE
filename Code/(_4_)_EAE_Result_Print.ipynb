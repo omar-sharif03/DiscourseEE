{
  "nbformat": 4,
  "nbformat_minor": 0,
  "metadata": {
    "colab": {
      "provenance": [],
      "toc_visible": true
    },
    "kernelspec": {
      "name": "python3",
      "display_name": "Python 3"
    },
    "language_info": {
      "name": "python"
    }
  },
  "cells": [
    {
      "cell_type": "code",
      "execution_count": null,
      "metadata": {
        "id": "qPiYhdQcWql3"
      },
      "outputs": [],
      "source": [
        "import os, json\n",
        "import numpy as np\n",
        "from argparse import ArgumentParser\n",
        "from tqdm import tqdm\n",
        "from collections import defaultdict\n",
        "import pandas as pd\n",
        "from pprint import pprint\n",
        "import re, string\n",
        "from google.colab import files"
      ]
    },
    {
      "cell_type": "code",
      "source": [
        "from google.colab import drive\n",
        "drive.mount('/content/drive')"
      ],
      "metadata": {
        "colab": {
          "base_uri": "https://localhost:8080/"
        },
        "id": "ZIvLSuh4H2dS",
        "outputId": "80bea75b-b626-485f-f767-da145bf14d56"
      },
      "execution_count": null,
      "outputs": [
        {
          "output_type": "stream",
          "name": "stdout",
          "text": [
            "Drive already mounted at /content/drive; to attempt to forcibly remount, call drive.mount(\"/content/drive\", force_remount=True).\n"
          ]
        }
      ]
    },
    {
      "cell_type": "code",
      "source": [
        "import statistics\n",
        "\n",
        "def print_check_score(p_type, e_type, s_t, mdl_name):\n",
        "    root = 'New-Avg-Run-Experiments'\n",
        "    folder = 'Argument-Extraction-Results'\n",
        "\n",
        "    numbers = ['0', '1', '2']\n",
        "    event_types = ['taking-moud', 'relapse', 'tapering']\n",
        "    arg_types = ['main-arguments', 'event-specific-arguments', 'subject-effect-arguments']\n",
        "\n",
        "    all_results = {}\n",
        "    for number in numbers: #iterating over all 3 runs\n",
        "          file_name = f'{number}-new-results-{mdl_name}.json'\n",
        "          name = os.path.join(root, folder, file_name)\n",
        "          results = read_json_file(name)\n",
        "          data = results[f'{p_type}_{e_type}_{s_t}']\n",
        "\n",
        "          ls3 = []\n",
        "          for event in event_types:\n",
        "              ls1 = []\n",
        "              for arg_type in arg_types:\n",
        "                  arguments = list(data[event][arg_type].keys())\n",
        "                  ls = []\n",
        "                  for arg in arguments:\n",
        "                      f1_score = data[event][arg_type][arg][0][2] ##stored f1-score\n",
        "                      gt_count = data[event][arg_type][arg][1][2] ##stored ground-truth count\n",
        "                      if(gt_count>5):\n",
        "                          #print(event, arg_type, arg, \"{:.5f}\".format(f1_score))\n",
        "                          ls.append(f1_score)\n",
        "                  if(len(ls)>0):\n",
        "                     # print(event, arg_type, \"{:.4f}\".format(sum(ls)/len(ls)*100))\n",
        "\n",
        "                      key = f'{event}_{arg_type}'\n",
        "                      if key in all_results:\n",
        "                          all_results[key].append(sum(ls)/len(ls))\n",
        "                      else:\n",
        "                          all_results[key] = [sum(ls)/len(ls)]\n",
        "                      ls1.append(sum(ls)/len(ls))\n",
        "              if(len(ls1)>0):\n",
        "                  #print(\"{:.4f}\".format(sum(ls1)/len(ls1)*100,\"\\n\"))\n",
        "                  ls3.append(sum(ls1)/len(ls1))\n",
        "\n",
        "          key = f\"{p_type}_{e_type}_{s_t}\"\n",
        "          if key in all_results:\n",
        "              all_results[key].append(sum(ls3)/len(ls3))\n",
        "          else :\n",
        "              all_results[key] = [sum(ls3)/len(ls3)]\n",
        "\n",
        "          #print(\"\\nOverall\", \"{:.4f}\".format(sum(ls3)/len(ls3)*100))\n",
        "\n",
        "    print(\"********* Key Reuslts************\\n\")\n",
        "    for event in event_types:\n",
        "        for arg_type in arg_types:\n",
        "            key = f'{event}_{arg_type}'\n",
        "            value = all_results[key]\n",
        "            print(event, arg_type, \"Mean: \", \"{:.4f}\".format(statistics.mean(value)*100),\n",
        "                  \"Std: \", \"{:.4f}\".format(statistics.stdev(value)*100))\n",
        "\n",
        "    key = f\"{p_type}_{e_type}_{s_t}\"\n",
        "    value = all_results[key]\n",
        "\n",
        "    print(\"\\nOverall:\")\n",
        "    print(p_type, e_type, s_t, \"Mean: \", \"{:.4f}\".format(statistics.mean(value)*100),\n",
        "      \"Std: \", \"{:.4f}\".format(statistics.stdev(value)*100))\n",
        "    print(\"*************************************\\n\")\n",
        "    return all_results\n",
        "\n",
        "def read_json_file(name):\n",
        "    with open(name, 'r') as f:\n",
        "        data = json.load(f)\n",
        "        return data\n",
        "\n"
      ],
      "metadata": {
        "id": "U-zGKnLfXAla"
      },
      "execution_count": null,
      "outputs": []
    },
    {
      "cell_type": "markdown",
      "source": [
        "# ZS LLM Results"
      ],
      "metadata": {
        "id": "c3BosOh3JTLQ"
      }
    },
    {
      "cell_type": "markdown",
      "source": [
        "## Gemma-1.1-7b-it"
      ],
      "metadata": {
        "id": "pghilAsBJXry"
      }
    },
    {
      "cell_type": "code",
      "source": [
        "mdl_name = 'gemma-1.1-7b-it'\n",
        "prompt_types = ['batch']#['batch', 'isolated']\n",
        "exp_types = ['description_guided', 'question_guided']\n",
        "similarity_threshold = [0.749, 0.99]\n",
        "\n",
        "results_for_print = {}\n",
        "for p_type in prompt_types:\n",
        "    for s_t in similarity_threshold:\n",
        "      for e_type in exp_types:\n",
        "              print(\"\\n*************************\")\n",
        "              print(p_type, e_type, s_t, mdl_name)\n",
        "              key = f'{p_type}_{e_type}_{s_t}'\n",
        "              value = print_check_score(p_type, e_type, s_t, mdl_name)\n",
        "              results_for_print[key] = value\n"
      ],
      "metadata": {
        "colab": {
          "base_uri": "https://localhost:8080/"
        },
        "id": "wqkHSMzmJS1t",
        "outputId": "14da47e0-0172-4c9c-c355-a548ba7d5dcc"
      },
      "execution_count": null,
      "outputs": [
        {
          "output_type": "stream",
          "name": "stdout",
          "text": [
            "\n",
            "*************************\n",
            "batch description_guided 0.749 gemma-1.1-7b-it\n",
            "********* Key Reuslts************\n",
            "\n",
            "taking-moud main-arguments Mean:  26.8418 Std:  1.0102\n",
            "taking-moud event-specific-arguments Mean:  39.1136 Std:  2.6050\n",
            "taking-moud subject-effect-arguments Mean:  31.8332 Std:  0.4294\n",
            "relapse main-arguments Mean:  20.4838 Std:  0.3202\n",
            "relapse event-specific-arguments Mean:  31.7544 Std:  0.6991\n",
            "relapse subject-effect-arguments Mean:  28.6655 Std:  4.5983\n",
            "tapering main-arguments Mean:  31.2400 Std:  2.5306\n",
            "tapering event-specific-arguments Mean:  28.6430 Std:  0.8509\n",
            "tapering subject-effect-arguments Mean:  30.2639 Std:  2.1919\n",
            "\n",
            "Overall:\n",
            "batch description_guided 0.749 Mean:  29.8710 Std:  0.3754\n",
            "*************************************\n",
            "\n",
            "\n",
            "*************************\n",
            "batch question_guided 0.749 gemma-1.1-7b-it\n",
            "********* Key Reuslts************\n",
            "\n",
            "taking-moud main-arguments Mean:  25.5201 Std:  2.8904\n",
            "taking-moud event-specific-arguments Mean:  46.4686 Std:  0.2199\n",
            "taking-moud subject-effect-arguments Mean:  29.0011 Std:  3.6276\n",
            "relapse main-arguments Mean:  15.6695 Std:  0.1843\n",
            "relapse event-specific-arguments Mean:  33.5132 Std:  1.0004\n",
            "relapse subject-effect-arguments Mean:  24.9429 Std:  1.9885\n",
            "tapering main-arguments Mean:  27.6340 Std:  1.1901\n",
            "tapering event-specific-arguments Mean:  36.3903 Std:  0.5543\n",
            "tapering subject-effect-arguments Mean:  32.3867 Std:  3.5921\n",
            "\n",
            "Overall:\n",
            "batch question_guided 0.749 Mean:  30.1696 Std:  1.0353\n",
            "*************************************\n",
            "\n",
            "\n",
            "*************************\n",
            "batch description_guided 0.99 gemma-1.1-7b-it\n",
            "********* Key Reuslts************\n",
            "\n",
            "taking-moud main-arguments Mean:  2.3584 Std:  2.2225\n",
            "taking-moud event-specific-arguments Mean:  20.8833 Std:  0.5383\n",
            "taking-moud subject-effect-arguments Mean:  14.2108 Std:  1.6908\n",
            "relapse main-arguments Mean:  1.1195 Std:  0.0146\n",
            "relapse event-specific-arguments Mean:  16.3324 Std:  0.2189\n",
            "relapse subject-effect-arguments Mean:  12.6560 Std:  3.1143\n",
            "tapering main-arguments Mean:  8.4504 Std:  0.5547\n",
            "tapering event-specific-arguments Mean:  17.7601 Std:  0.1636\n",
            "tapering subject-effect-arguments Mean:  12.5725 Std:  1.8952\n",
            "\n",
            "Overall:\n",
            "batch description_guided 0.99 Mean:  11.8159 Std:  0.2041\n",
            "*************************************\n",
            "\n",
            "\n",
            "*************************\n",
            "batch question_guided 0.99 gemma-1.1-7b-it\n",
            "********* Key Reuslts************\n",
            "\n",
            "taking-moud main-arguments Mean:  3.4752 Std:  0.3634\n",
            "taking-moud event-specific-arguments Mean:  26.8540 Std:  0.3392\n",
            "taking-moud subject-effect-arguments Mean:  9.4843 Std:  0.4831\n",
            "relapse main-arguments Mean:  0.7042 Std:  1.2198\n",
            "relapse event-specific-arguments Mean:  19.7432 Std:  0.8581\n",
            "relapse subject-effect-arguments Mean:  14.0417 Std:  2.0906\n",
            "tapering main-arguments Mean:  1.7432 Std:  0.1015\n",
            "tapering event-specific-arguments Mean:  21.5231 Std:  2.5386\n",
            "tapering subject-effect-arguments Mean:  15.6625 Std:  1.0674\n",
            "\n",
            "Overall:\n",
            "batch question_guided 0.99 Mean:  12.5813 Std:  0.4378\n",
            "*************************************\n",
            "\n"
          ]
        }
      ]
    },
    {
      "cell_type": "markdown",
      "source": [
        "## Mixtral-8x7B-Instruct"
      ],
      "metadata": {
        "id": "L47Tn2UbXM-q"
      }
    },
    {
      "cell_type": "code",
      "source": [
        "mdl_name = 'Mixtral-8x7B-Instruct'\n",
        "prompt_types = ['batch']#['batch', 'isolated']\n",
        "exp_types = ['description_guided', 'question_guided']\n",
        "similarity_threshold = [0.749, 0.99]\n",
        "\n",
        "results_for_print = {}\n",
        "for p_type in prompt_types:\n",
        "    for s_t in similarity_threshold:\n",
        "      for e_type in exp_types:\n",
        "              print(\"\\n*************************\")\n",
        "              print(p_type, e_type, s_t, mdl_name)\n",
        "              key = f'{p_type}_{e_type}_{s_t}'\n",
        "              value = print_check_score(p_type, e_type, s_t, mdl_name)\n",
        "              results_for_print[key] = value\n"
      ],
      "metadata": {
        "colab": {
          "base_uri": "https://localhost:8080/"
        },
        "id": "CkE86S6_JSwD",
        "outputId": "181330ad-0ee5-4306-ea19-f20baa07386e"
      },
      "execution_count": null,
      "outputs": [
        {
          "output_type": "stream",
          "name": "stdout",
          "text": [
            "\n",
            "*************************\n",
            "batch description_guided 0.749 Mixtral-8x7B-Instruct\n",
            "********* Key Reuslts************\n",
            "\n",
            "taking-moud main-arguments Mean:  34.1959 Std:  0.3797\n",
            "taking-moud event-specific-arguments Mean:  30.7073 Std:  0.5402\n",
            "taking-moud subject-effect-arguments Mean:  33.9495 Std:  4.8293\n",
            "relapse main-arguments Mean:  33.7717 Std:  0.4582\n",
            "relapse event-specific-arguments Mean:  33.7356 Std:  0.9259\n",
            "relapse subject-effect-arguments Mean:  31.8006 Std:  0.7947\n",
            "tapering main-arguments Mean:  40.5556 Std:  0.1132\n",
            "tapering event-specific-arguments Mean:  41.5118 Std:  1.6082\n",
            "tapering subject-effect-arguments Mean:  39.4730 Std:  1.9771\n",
            "\n",
            "Overall:\n",
            "batch description_guided 0.749 Mean:  35.5223 Std:  0.7718\n",
            "*************************************\n",
            "\n",
            "\n",
            "*************************\n",
            "batch question_guided 0.749 Mixtral-8x7B-Instruct\n",
            "********* Key Reuslts************\n",
            "\n",
            "taking-moud main-arguments Mean:  36.8958 Std:  0.4886\n",
            "taking-moud event-specific-arguments Mean:  27.8890 Std:  0.4277\n",
            "taking-moud subject-effect-arguments Mean:  31.3199 Std:  1.0082\n",
            "relapse main-arguments Mean:  32.5361 Std:  1.5974\n",
            "relapse event-specific-arguments Mean:  33.0605 Std:  0.2997\n",
            "relapse subject-effect-arguments Mean:  20.4493 Std:  0.8115\n",
            "tapering main-arguments Mean:  33.6787 Std:  0.7413\n",
            "tapering event-specific-arguments Mean:  32.9515 Std:  1.0789\n",
            "tapering subject-effect-arguments Mean:  42.6990 Std:  0.6595\n",
            "\n",
            "Overall:\n",
            "batch question_guided 0.749 Mean:  32.3866 Std:  0.2406\n",
            "*************************************\n",
            "\n",
            "\n",
            "*************************\n",
            "batch description_guided 0.99 Mixtral-8x7B-Instruct\n",
            "********* Key Reuslts************\n",
            "\n",
            "taking-moud main-arguments Mean:  7.2543 Std:  0.4968\n",
            "taking-moud event-specific-arguments Mean:  18.3441 Std:  0.4727\n",
            "taking-moud subject-effect-arguments Mean:  11.4127 Std:  1.4126\n",
            "relapse main-arguments Mean:  3.8037 Std:  0.0000\n",
            "relapse event-specific-arguments Mean:  13.1247 Std:  0.2999\n",
            "relapse subject-effect-arguments Mean:  12.1743 Std:  0.8268\n",
            "tapering main-arguments Mean:  8.7963 Std:  0.8019\n",
            "tapering event-specific-arguments Mean:  19.0170 Std:  0.1673\n",
            "tapering subject-effect-arguments Mean:  11.6819 Std:  0.0238\n",
            "\n",
            "Overall:\n",
            "batch description_guided 0.99 Mean:  11.7343 Std:  0.2554\n",
            "*************************************\n",
            "\n",
            "\n",
            "*************************\n",
            "batch question_guided 0.99 Mixtral-8x7B-Instruct\n",
            "********* Key Reuslts************\n",
            "\n",
            "taking-moud main-arguments Mean:  6.1711 Std:  0.4609\n",
            "taking-moud event-specific-arguments Mean:  15.9411 Std:  0.4277\n",
            "taking-moud subject-effect-arguments Mean:  9.5990 Std:  0.0909\n",
            "relapse main-arguments Mean:  1.5600 Std:  0.4955\n",
            "relapse event-specific-arguments Mean:  12.7464 Std:  0.3112\n",
            "relapse subject-effect-arguments Mean:  10.8625 Std:  0.1470\n",
            "tapering main-arguments Mean:  7.7143 Std:  0.4949\n",
            "tapering event-specific-arguments Mean:  17.3919 Std:  0.3477\n",
            "tapering subject-effect-arguments Mean:  16.4632 Std:  0.0156\n",
            "\n",
            "Overall:\n",
            "batch question_guided 0.99 Mean:  10.9388 Std:  0.1331\n",
            "*************************************\n",
            "\n"
          ]
        }
      ]
    },
    {
      "cell_type": "markdown",
      "source": [
        "##Llama-3-8B"
      ],
      "metadata": {
        "id": "G2nzecBYYFyo"
      }
    },
    {
      "cell_type": "code",
      "source": [
        "mdl_name = 'Llama-3-8B-Instruct'\n",
        "prompt_types = ['batch']#['batch', 'isolated']\n",
        "exp_types = ['description_guided', 'question_guided']\n",
        "similarity_threshold = [0.749, 0.99]\n",
        "\n",
        "results_for_print = {}\n",
        "for p_type in prompt_types:\n",
        "    for s_t in similarity_threshold:\n",
        "      for e_type in exp_types:\n",
        "              print(\"\\n*************************\")\n",
        "              print(p_type, e_type, s_t, mdl_name)\n",
        "              key = f'{p_type}_{e_type}_{s_t}'\n",
        "              value = print_check_score(p_type, e_type, s_t, mdl_name)\n",
        "              results_for_print[key] = value\n"
      ],
      "metadata": {
        "colab": {
          "base_uri": "https://localhost:8080/"
        },
        "id": "siI-OXpcXi5g",
        "outputId": "9d96de52-7482-441a-e3d3-ea1347ac112d"
      },
      "execution_count": null,
      "outputs": [
        {
          "output_type": "stream",
          "name": "stdout",
          "text": [
            "\n",
            "*************************\n",
            "batch description_guided 0.749 Llama-3-8B-Instruct\n",
            "********* Key Reuslts************\n",
            "\n",
            "taking-moud main-arguments Mean:  32.8867 Std:  0.4818\n",
            "taking-moud event-specific-arguments Mean:  48.4557 Std:  0.4532\n",
            "taking-moud subject-effect-arguments Mean:  32.4810 Std:  2.0809\n",
            "relapse main-arguments Mean:  33.4360 Std:  0.1239\n",
            "relapse event-specific-arguments Mean:  37.7479 Std:  0.0000\n",
            "relapse subject-effect-arguments Mean:  27.4940 Std:  0.0000\n",
            "tapering main-arguments Mean:  41.3364 Std:  0.7128\n",
            "tapering event-specific-arguments Mean:  42.8850 Std:  0.0000\n",
            "tapering subject-effect-arguments Mean:  35.5477 Std:  0.0000\n",
            "\n",
            "Overall:\n",
            "batch description_guided 0.749 Mean:  36.9189 Std:  0.2921\n",
            "*************************************\n",
            "\n",
            "\n",
            "*************************\n",
            "batch question_guided 0.749 Llama-3-8B-Instruct\n",
            "********* Key Reuslts************\n",
            "\n",
            "taking-moud main-arguments Mean:  34.8855 Std:  0.4264\n",
            "taking-moud event-specific-arguments Mean:  42.1992 Std:  0.7698\n",
            "taking-moud subject-effect-arguments Mean:  27.6477 Std:  0.2578\n",
            "relapse main-arguments Mean:  33.3109 Std:  0.4485\n",
            "relapse event-specific-arguments Mean:  32.3816 Std:  0.6873\n",
            "relapse subject-effect-arguments Mean:  31.4896 Std:  0.0418\n",
            "tapering main-arguments Mean:  25.8238 Std:  0.7587\n",
            "tapering event-specific-arguments Mean:  45.8903 Std:  0.0000\n",
            "tapering subject-effect-arguments Mean:  41.0900 Std:  0.0000\n",
            "\n",
            "Overall:\n",
            "batch question_guided 0.749 Mean:  34.9687 Std:  0.0736\n",
            "*************************************\n",
            "\n",
            "\n",
            "*************************\n",
            "batch description_guided 0.99 Llama-3-8B-Instruct\n",
            "********* Key Reuslts************\n",
            "\n",
            "taking-moud main-arguments Mean:  2.3444 Std:  0.4524\n",
            "taking-moud event-specific-arguments Mean:  28.8898 Std:  0.1322\n",
            "taking-moud subject-effect-arguments Mean:  9.7947 Std:  0.9360\n",
            "relapse main-arguments Mean:  4.4258 Std:  0.0000\n",
            "relapse event-specific-arguments Mean:  19.0503 Std:  0.6873\n",
            "relapse subject-effect-arguments Mean:  13.8689 Std:  0.0000\n",
            "tapering main-arguments Mean:  8.1982 Std:  0.0000\n",
            "tapering event-specific-arguments Mean:  25.8856 Std:  0.0000\n",
            "tapering subject-effect-arguments Mean:  15.2418 Std:  0.0000\n",
            "\n",
            "Overall:\n",
            "batch description_guided 0.99 Mean:  14.1888 Std:  0.1452\n",
            "*************************************\n",
            "\n",
            "\n",
            "*************************\n",
            "batch question_guided 0.99 Llama-3-8B-Instruct\n",
            "********* Key Reuslts************\n",
            "\n",
            "taking-moud main-arguments Mean:  1.8592 Std:  0.0153\n",
            "taking-moud event-specific-arguments Mean:  21.7269 Std:  0.7698\n",
            "taking-moud subject-effect-arguments Mean:  6.9949 Std:  0.0189\n",
            "relapse main-arguments Mean:  4.9249 Std:  0.0000\n",
            "relapse event-specific-arguments Mean:  18.8858 Std:  0.0000\n",
            "relapse subject-effect-arguments Mean:  11.7774 Std:  0.0157\n",
            "tapering main-arguments Mean:  5.8130 Std:  0.0342\n",
            "tapering event-specific-arguments Mean:  25.7523 Std:  0.0000\n",
            "tapering subject-effect-arguments Mean:  14.3170 Std:  0.0000\n",
            "\n",
            "Overall:\n",
            "batch question_guided 0.99 Mean:  12.4502 Std:  0.0906\n",
            "*************************************\n",
            "\n"
          ]
        }
      ]
    },
    {
      "cell_type": "markdown",
      "source": [
        "## Llama-3-70B-Instruct"
      ],
      "metadata": {
        "id": "P2_ticxvYJsX"
      }
    },
    {
      "cell_type": "code",
      "source": [
        "mdl_name = 'Llama-3-70B-Instruct'\n",
        "prompt_types = ['batch']#['batch', 'isolated']\n",
        "exp_types = ['description_guided', 'question_guided']\n",
        "similarity_threshold = [0.749, 0.99]\n",
        "\n",
        "results_for_print = {}\n",
        "for p_type in prompt_types:\n",
        "    for s_t in similarity_threshold:\n",
        "      for e_type in exp_types:\n",
        "              print(\"\\n*************************\")\n",
        "              print(p_type, e_type, s_t, mdl_name)\n",
        "              key = f'{p_type}_{e_type}_{s_t}'\n",
        "              value = print_check_score(p_type, e_type, s_t, mdl_name)\n",
        "              results_for_print[key] = value\n"
      ],
      "metadata": {
        "colab": {
          "base_uri": "https://localhost:8080/"
        },
        "id": "kr9eD_9lYJeL",
        "outputId": "6deffc20-8da1-46c4-ee94-ac388ad3ec1f"
      },
      "execution_count": null,
      "outputs": [
        {
          "output_type": "stream",
          "name": "stdout",
          "text": [
            "\n",
            "*************************\n",
            "batch description_guided 0.749 Llama-3-70B-Instruct\n",
            "********* Key Reuslts************\n",
            "\n",
            "taking-moud main-arguments Mean:  41.3565 Std:  3.4753\n",
            "taking-moud event-specific-arguments Mean:  39.3901 Std:  1.0344\n",
            "taking-moud subject-effect-arguments Mean:  25.2899 Std:  2.3213\n",
            "relapse main-arguments Mean:  35.2064 Std:  2.8816\n",
            "relapse event-specific-arguments Mean:  38.8045 Std:  4.2920\n",
            "relapse subject-effect-arguments Mean:  30.7875 Std:  4.2407\n",
            "tapering main-arguments Mean:  41.5460 Std:  3.6548\n",
            "tapering event-specific-arguments Mean:  40.5723 Std:  0.4514\n",
            "tapering subject-effect-arguments Mean:  28.8311 Std:  4.1047\n",
            "\n",
            "Overall:\n",
            "batch description_guided 0.749 Mean:  35.7538 Std:  0.8714\n",
            "*************************************\n",
            "\n",
            "\n",
            "*************************\n",
            "batch question_guided 0.749 Llama-3-70B-Instruct\n",
            "********* Key Reuslts************\n",
            "\n",
            "taking-moud main-arguments Mean:  37.2819 Std:  0.6907\n",
            "taking-moud event-specific-arguments Mean:  42.3178 Std:  0.7354\n",
            "taking-moud subject-effect-arguments Mean:  25.0271 Std:  2.1089\n",
            "relapse main-arguments Mean:  35.9497 Std:  3.9304\n",
            "relapse event-specific-arguments Mean:  41.4241 Std:  5.1298\n",
            "relapse subject-effect-arguments Mean:  33.4937 Std:  1.6252\n",
            "tapering main-arguments Mean:  36.1320 Std:  0.7120\n",
            "tapering event-specific-arguments Mean:  40.2828 Std:  0.3159\n",
            "tapering subject-effect-arguments Mean:  34.9028 Std:  2.6368\n",
            "\n",
            "Overall:\n",
            "batch question_guided 0.749 Mean:  36.3124 Std:  0.8948\n",
            "*************************************\n",
            "\n",
            "\n",
            "*************************\n",
            "batch description_guided 0.99 Llama-3-70B-Instruct\n",
            "********* Key Reuslts************\n",
            "\n",
            "taking-moud main-arguments Mean:  6.7545 Std:  1.8900\n",
            "taking-moud event-specific-arguments Mean:  25.3907 Std:  0.8543\n",
            "taking-moud subject-effect-arguments Mean:  9.7004 Std:  0.9032\n",
            "relapse main-arguments Mean:  5.6379 Std:  0.0516\n",
            "relapse event-specific-arguments Mean:  21.0433 Std:  2.7505\n",
            "relapse subject-effect-arguments Mean:  13.1791 Std:  1.4016\n",
            "tapering main-arguments Mean:  11.0966 Std:  1.6484\n",
            "tapering event-specific-arguments Mean:  22.1431 Std:  0.1070\n",
            "tapering subject-effect-arguments Mean:  15.3041 Std:  0.2123\n",
            "\n",
            "Overall:\n",
            "batch description_guided 0.99 Mean:  14.4722 Std:  0.4416\n",
            "*************************************\n",
            "\n",
            "\n",
            "*************************\n",
            "batch question_guided 0.99 Llama-3-70B-Instruct\n",
            "********* Key Reuslts************\n",
            "\n",
            "taking-moud main-arguments Mean:  3.3350 Std:  1.5765\n",
            "taking-moud event-specific-arguments Mean:  25.8435 Std:  1.2871\n",
            "taking-moud subject-effect-arguments Mean:  10.2197 Std:  1.6176\n",
            "relapse main-arguments Mean:  5.8249 Std:  0.6270\n",
            "relapse event-specific-arguments Mean:  23.3383 Std:  2.5633\n",
            "relapse subject-effect-arguments Mean:  14.6212 Std:  0.4242\n",
            "tapering main-arguments Mean:  12.1153 Std:  2.1869\n",
            "tapering event-specific-arguments Mean:  23.0280 Std:  0.8673\n",
            "tapering subject-effect-arguments Mean:  18.5613 Std:  0.0616\n",
            "\n",
            "Overall:\n",
            "batch question_guided 0.99 Mean:  15.2097 Std:  0.1856\n",
            "*************************************\n",
            "\n"
          ]
        }
      ]
    },
    {
      "cell_type": "markdown",
      "source": [
        "## GPT-4o"
      ],
      "metadata": {
        "id": "U9o6AnsPYgVx"
      }
    },
    {
      "cell_type": "code",
      "source": [
        "mdl_name = 'gpt-4o'\n",
        "prompt_types = ['batch']#['batch', 'isolated']\n",
        "exp_types = ['description_guided', 'question_guided']\n",
        "similarity_threshold = [0.749, 0.99]\n",
        "\n",
        "results_for_print = {}\n",
        "for p_type in prompt_types:\n",
        "    for s_t in similarity_threshold:\n",
        "      for e_type in exp_types:\n",
        "              print(\"\\n*************************\")\n",
        "              print(p_type, e_type, s_t, mdl_name)\n",
        "              key = f'{p_type}_{e_type}_{s_t}'\n",
        "              value = print_check_score(p_type, e_type, s_t, mdl_name)\n",
        "              results_for_print[key] = value\n"
      ],
      "metadata": {
        "colab": {
          "base_uri": "https://localhost:8080/"
        },
        "id": "nKi5uQvJJStR",
        "outputId": "7cc5a1fc-4ee8-4aea-e2d9-6c3952333db8"
      },
      "execution_count": null,
      "outputs": [
        {
          "output_type": "stream",
          "name": "stdout",
          "text": [
            "\n",
            "*************************\n",
            "batch description_guided 0.749 gpt-4o\n",
            "********* Key Reuslts************\n",
            "\n",
            "taking-moud main-arguments Mean:  37.8800 Std:  2.0054\n",
            "taking-moud event-specific-arguments Mean:  46.3411 Std:  1.0525\n",
            "taking-moud subject-effect-arguments Mean:  30.5091 Std:  1.1099\n",
            "relapse main-arguments Mean:  43.5650 Std:  1.3968\n",
            "relapse event-specific-arguments Mean:  41.9453 Std:  2.1800\n",
            "relapse subject-effect-arguments Mean:  39.6814 Std:  2.3105\n",
            "tapering main-arguments Mean:  42.9098 Std:  1.1140\n",
            "tapering event-specific-arguments Mean:  38.4389 Std:  1.9056\n",
            "tapering subject-effect-arguments Mean:  43.1596 Std:  2.6988\n",
            "\n",
            "Overall:\n",
            "batch description_guided 0.749 Mean:  40.4922 Std:  0.2273\n",
            "*************************************\n",
            "\n",
            "\n",
            "*************************\n",
            "batch question_guided 0.749 gpt-4o\n",
            "********* Key Reuslts************\n",
            "\n",
            "taking-moud main-arguments Mean:  35.7777 Std:  1.0114\n",
            "taking-moud event-specific-arguments Mean:  47.3871 Std:  0.6394\n",
            "taking-moud subject-effect-arguments Mean:  38.8377 Std:  2.7906\n",
            "relapse main-arguments Mean:  39.7528 Std:  4.3803\n",
            "relapse event-specific-arguments Mean:  40.4128 Std:  0.2453\n",
            "relapse subject-effect-arguments Mean:  49.3598 Std:  1.0428\n",
            "tapering main-arguments Mean:  40.6981 Std:  1.5616\n",
            "tapering event-specific-arguments Mean:  44.4110 Std:  2.3900\n",
            "tapering subject-effect-arguments Mean:  41.2692 Std:  3.4805\n",
            "\n",
            "Overall:\n",
            "batch question_guided 0.749 Mean:  41.9896 Std:  0.8780\n",
            "*************************************\n",
            "\n",
            "\n",
            "*************************\n",
            "batch description_guided 0.99 gpt-4o\n",
            "********* Key Reuslts************\n",
            "\n",
            "taking-moud main-arguments Mean:  2.3616 Std:  0.9791\n",
            "taking-moud event-specific-arguments Mean:  27.3015 Std:  1.0856\n",
            "taking-moud subject-effect-arguments Mean:  14.7971 Std:  0.9979\n",
            "relapse main-arguments Mean:  7.3928 Std:  0.7446\n",
            "relapse event-specific-arguments Mean:  23.0470 Std:  1.8008\n",
            "relapse subject-effect-arguments Mean:  21.0440 Std:  2.1779\n",
            "tapering main-arguments Mean:  8.4296 Std:  0.0890\n",
            "tapering event-specific-arguments Mean:  20.3575 Std:  0.7347\n",
            "tapering subject-effect-arguments Mean:  16.7774 Std:  1.8649\n",
            "\n",
            "Overall:\n",
            "batch description_guided 0.99 Mean:  15.7232 Std:  0.2616\n",
            "*************************************\n",
            "\n",
            "\n",
            "*************************\n",
            "batch question_guided 0.99 gpt-4o\n",
            "********* Key Reuslts************\n",
            "\n",
            "taking-moud main-arguments Mean:  4.9584 Std:  1.4543\n",
            "taking-moud event-specific-arguments Mean:  29.0657 Std:  0.2128\n",
            "taking-moud subject-effect-arguments Mean:  19.3587 Std:  0.7905\n",
            "relapse main-arguments Mean:  6.2240 Std:  1.3527\n",
            "relapse event-specific-arguments Mean:  21.1936 Std:  1.7692\n",
            "relapse subject-effect-arguments Mean:  26.1068 Std:  0.8416\n",
            "tapering main-arguments Mean:  8.7278 Std:  0.3527\n",
            "tapering event-specific-arguments Mean:  21.0687 Std:  2.1978\n",
            "tapering subject-effect-arguments Mean:  14.8607 Std:  0.0715\n",
            "\n",
            "Overall:\n",
            "batch question_guided 0.99 Mean:  16.8405 Std:  0.2343\n",
            "*************************************\n",
            "\n"
          ]
        }
      ]
    },
    {
      "cell_type": "markdown",
      "source": [
        "# Other Baseline Models"
      ],
      "metadata": {
        "id": "pnEWgI2TY6VF"
      }
    },
    {
      "cell_type": "markdown",
      "source": [
        "##Extractive-QA"
      ],
      "metadata": {
        "id": "ThfcVvFf-o_H"
      }
    },
    {
      "cell_type": "code",
      "source": [
        "import statistics\n",
        "\n",
        "def print_check_score_2(s_t, mdl_name):\n",
        "    root = 'New-Avg-Run-Experiments'\n",
        "    folder = 'Argument-Extraction-Results'\n",
        "\n",
        "    numbers = ['0', '1', '2']\n",
        "    event_types = ['taking-moud', 'relapse', 'tapering']\n",
        "    arg_types = ['main-arguments', 'event-specific-arguments', 'subject-effect-arguments']\n",
        "\n",
        "    all_results = {}\n",
        "    for number in numbers: #iterating over all 3 runs\n",
        "          file_name = f'{number}-new-results-{mdl_name}.json'\n",
        "          name = os.path.join(root, folder, file_name)\n",
        "          results = read_json_file(name)\n",
        "          data = results[f'{number}-{mdl_name}-{s_t}']\n",
        "          #pprint(data)\n",
        "          ls3 = []\n",
        "          for event in event_types:\n",
        "              ls1 = []\n",
        "              for arg_type in arg_types:\n",
        "                  arguments = list(data[event][arg_type].keys())\n",
        "                  ls = []\n",
        "                  for arg in arguments:\n",
        "                      f1_score = data[event][arg_type][arg][0][2] ##stored f1-score\n",
        "                      gt_count = data[event][arg_type][arg][1][2] ##stored ground-truth count\n",
        "                      if(gt_count>5):\n",
        "                          #print(event, arg_type, arg, \"{:.5f}\".format(f1_score))\n",
        "                          ls.append(f1_score)\n",
        "                  if(len(ls)>0):\n",
        "                     # print(event, arg_type, \"{:.4f}\".format(sum(ls)/len(ls)*100))\n",
        "\n",
        "                      key = f'{event}_{arg_type}'\n",
        "                      if key in all_results:\n",
        "                          all_results[key].append(sum(ls)/len(ls))\n",
        "                      else:\n",
        "                          all_results[key] = [sum(ls)/len(ls)]\n",
        "                      ls1.append(sum(ls)/len(ls))\n",
        "              if(len(ls1)>0):\n",
        "                  #print(\"{:.4f}\".format(sum(ls1)/len(ls1)*100,\"\\n\"))\n",
        "                  ls3.append(sum(ls1)/len(ls1))\n",
        "\n",
        "          key = f\"{mdl_name}-{s_t}\"\n",
        "          if key in all_results:\n",
        "              all_results[key].append(sum(ls3)/len(ls3))\n",
        "          else :\n",
        "              all_results[key] = [sum(ls3)/len(ls3)]\n",
        "\n",
        "          #print(\"\\nOverall\", \"{:.4f}\".format(sum(ls3)/len(ls3)*100))\n",
        "\n",
        "    print(\"********* Key Reuslts************\\n\")\n",
        "    for event in event_types:\n",
        "        for arg_type in arg_types:\n",
        "            key = f'{event}_{arg_type}'\n",
        "            value = all_results[key]\n",
        "            print(event, arg_type, \"Mean: \", \"{:.4f}\".format(statistics.mean(value)*100),\n",
        "                  \"Std: \", \"{:.4f}\".format(statistics.stdev(value)*100))\n",
        "\n",
        "    key = f\"{mdl_name}-{s_t}\"\n",
        "    value = all_results[key]\n",
        "\n",
        "    print(\"\\nOverall:\")\n",
        "    print(mdl_name, s_t, \"Mean: \", \"{:.4f}\".format(statistics.mean(value)*100),\n",
        "      \"Std: \", \"{:.4f}\".format(statistics.stdev(value)*100))\n",
        "    print(\"*************************************\\n\")\n",
        "    return all_results\n",
        "\n",
        "def read_json_file(name):\n",
        "    with open(name, 'r') as f:\n",
        "        data = json.load(f)\n",
        "        return data\n",
        "\n"
      ],
      "metadata": {
        "id": "_RfQOOI3q6IC"
      },
      "execution_count": null,
      "outputs": []
    },
    {
      "cell_type": "code",
      "source": [
        "mdl_name = 'extractive_qa_fine_tuned_squad'\n",
        "similarity_threshold = [0.749, 0.99]\n",
        "results_for_print = {}\n",
        "\n",
        "for s_t in similarity_threshold:\n",
        "          print(\"\\n*************************\")\n",
        "          print(s_t, mdl_name)\n",
        "          key = f'{mdl_name}_{s_t}'\n",
        "          value = print_check_score_2(s_t, mdl_name)\n",
        "          results_for_print[key] = value\n"
      ],
      "metadata": {
        "colab": {
          "base_uri": "https://localhost:8080/"
        },
        "id": "Kk3nNlVaqYgP",
        "outputId": "18fc7c4c-6586-4d56-f5a1-6079257fe14c"
      },
      "execution_count": null,
      "outputs": [
        {
          "output_type": "stream",
          "name": "stdout",
          "text": [
            "\n",
            "*************************\n",
            "0.749 extractive_qa_fine_tuned_squad\n",
            "********* Key Reuslts************\n",
            "\n",
            "taking-moud main-arguments Mean:  4.9856 Std:  0.0000\n",
            "taking-moud event-specific-arguments Mean:  19.2658 Std:  0.0000\n",
            "taking-moud subject-effect-arguments Mean:  16.0842 Std:  0.0000\n",
            "relapse main-arguments Mean:  14.9505 Std:  0.0000\n",
            "relapse event-specific-arguments Mean:  29.1571 Std:  0.0000\n",
            "relapse subject-effect-arguments Mean:  15.3909 Std:  0.0000\n",
            "tapering main-arguments Mean:  19.9813 Std:  0.0000\n",
            "tapering event-specific-arguments Mean:  18.6588 Std:  0.0000\n",
            "tapering subject-effect-arguments Mean:  15.7460 Std:  0.0000\n",
            "\n",
            "Overall:\n",
            "extractive_qa_fine_tuned_squad 0.749 Mean:  17.1356 Std:  0.0000\n",
            "*************************************\n",
            "\n",
            "\n",
            "*************************\n",
            "0.99 extractive_qa_fine_tuned_squad\n",
            "********* Key Reuslts************\n",
            "\n",
            "taking-moud main-arguments Mean:  1.2579 Std:  0.0000\n",
            "taking-moud event-specific-arguments Mean:  7.8374 Std:  0.0000\n",
            "taking-moud subject-effect-arguments Mean:  1.5094 Std:  0.0000\n",
            "relapse main-arguments Mean:  3.3621 Std:  0.0000\n",
            "relapse event-specific-arguments Mean:  14.8549 Std:  0.0000\n",
            "relapse subject-effect-arguments Mean:  6.4722 Std:  0.0000\n",
            "tapering main-arguments Mean:  5.1167 Std:  0.0000\n",
            "tapering event-specific-arguments Mean:  4.2028 Std:  0.0000\n",
            "tapering subject-effect-arguments Mean:  4.0000 Std:  0.0000\n",
            "\n",
            "Overall:\n",
            "extractive_qa_fine_tuned_squad 0.99 Mean:  5.4015 Std:  0.0000\n",
            "*************************************\n",
            "\n"
          ]
        }
      ]
    },
    {
      "cell_type": "markdown",
      "source": [
        "##FLAN-T5-Base"
      ],
      "metadata": {
        "id": "erWtx2Pl-t2z"
      }
    },
    {
      "cell_type": "code",
      "source": [
        "mdl_name = 'generative-qa-flan-t5-base'\n",
        "similarity_threshold = [0.749, 0.99]\n",
        "results_for_print = {}\n",
        "\n",
        "for s_t in similarity_threshold:\n",
        "          print(\"\\n*************************\")\n",
        "          print(s_t, mdl_name)\n",
        "          key = f'{mdl_name}_{s_t}'\n",
        "          value = print_check_score_2(s_t, mdl_name)\n",
        "          results_for_print[key] = value\n"
      ],
      "metadata": {
        "colab": {
          "base_uri": "https://localhost:8080/"
        },
        "id": "JGlhSEyPYeVx",
        "outputId": "67378864-88d6-435d-de46-d360e8f3150f"
      },
      "execution_count": null,
      "outputs": [
        {
          "output_type": "stream",
          "name": "stdout",
          "text": [
            "\n",
            "*************************\n",
            "0.749 generative-qa-flan-t5-base\n",
            "********* Key Reuslts************\n",
            "\n",
            "taking-moud main-arguments Mean:  34.9931 Std:  0.0000\n",
            "taking-moud event-specific-arguments Mean:  37.2296 Std:  0.0000\n",
            "taking-moud subject-effect-arguments Mean:  11.4086 Std:  0.0000\n",
            "relapse main-arguments Mean:  25.3799 Std:  0.0000\n",
            "relapse event-specific-arguments Mean:  20.3118 Std:  0.0000\n",
            "relapse subject-effect-arguments Mean:  11.3780 Std:  0.0000\n",
            "tapering main-arguments Mean:  38.7827 Std:  0.0000\n",
            "tapering event-specific-arguments Mean:  40.9407 Std:  0.0000\n",
            "tapering subject-effect-arguments Mean:  17.5392 Std:  0.0000\n",
            "\n",
            "Overall:\n",
            "generative-qa-flan-t5-base 0.749 Mean:  26.4404 Std:  0.0000\n",
            "*************************************\n",
            "\n",
            "\n",
            "*************************\n",
            "0.99 generative-qa-flan-t5-base\n",
            "********* Key Reuslts************\n",
            "\n",
            "taking-moud main-arguments Mean:  4.8934 Std:  0.0000\n",
            "taking-moud event-specific-arguments Mean:  25.2465 Std:  0.0000\n",
            "taking-moud subject-effect-arguments Mean:  2.8533 Std:  0.0000\n",
            "relapse main-arguments Mean:  3.7518 Std:  0.0000\n",
            "relapse event-specific-arguments Mean:  13.3183 Std:  0.0000\n",
            "relapse subject-effect-arguments Mean:  11.3780 Std:  0.0000\n",
            "tapering main-arguments Mean:  7.4074 Std:  0.0000\n",
            "tapering event-specific-arguments Mean:  21.9303 Std:  0.0000\n",
            "tapering subject-effect-arguments Mean:  6.6765 Std:  0.0000\n",
            "\n",
            "Overall:\n",
            "generative-qa-flan-t5-base 0.99 Mean:  10.8284 Std:  0.0000\n",
            "*************************************\n",
            "\n"
          ]
        }
      ]
    },
    {
      "cell_type": "markdown",
      "source": [
        "##FLAN-T5-Large"
      ],
      "metadata": {
        "id": "nX4Ya9sx-0OO"
      }
    },
    {
      "cell_type": "code",
      "source": [
        "mdl_name = 'generative-qa-flan-t5-large'\n",
        "similarity_threshold = [0.749, 0.99]\n",
        "results_for_print = {}\n",
        "\n",
        "for s_t in similarity_threshold:\n",
        "          print(\"\\n*************************\")\n",
        "          print(s_t, mdl_name)\n",
        "          key = f'{mdl_name}_{s_t}'\n",
        "          value = print_check_score_2(s_t, mdl_name)\n",
        "          results_for_print[key] = value\n",
        "\n",
        "\n"
      ],
      "metadata": {
        "colab": {
          "base_uri": "https://localhost:8080/"
        },
        "id": "luOc6oRcenVr",
        "outputId": "8b4ce581-81be-4c52-bf82-d3b77fe3d570"
      },
      "execution_count": null,
      "outputs": [
        {
          "output_type": "stream",
          "name": "stdout",
          "text": [
            "\n",
            "*************************\n",
            "0.749 generative-qa-flan-t5-large\n",
            "********* Key Reuslts************\n",
            "\n",
            "taking-moud main-arguments Mean:  41.7027 Std:  0.0000\n",
            "taking-moud event-specific-arguments Mean:  45.6181 Std:  0.0000\n",
            "taking-moud subject-effect-arguments Mean:  23.9258 Std:  0.0000\n",
            "relapse main-arguments Mean:  38.4419 Std:  0.0000\n",
            "relapse event-specific-arguments Mean:  27.4133 Std:  0.0000\n",
            "relapse subject-effect-arguments Mean:  19.7963 Std:  0.0000\n",
            "tapering main-arguments Mean:  44.0440 Std:  0.0000\n",
            "tapering event-specific-arguments Mean:  51.9250 Std:  0.0000\n",
            "tapering subject-effect-arguments Mean:  26.9329 Std:  0.0000\n",
            "\n",
            "Overall:\n",
            "generative-qa-flan-t5-large 0.749 Mean:  35.5333 Std:  0.0000\n",
            "*************************************\n",
            "\n",
            "\n",
            "*************************\n",
            "0.99 generative-qa-flan-t5-large\n",
            "********* Key Reuslts************\n",
            "\n",
            "taking-moud main-arguments Mean:  5.1082 Std:  0.0000\n",
            "taking-moud event-specific-arguments Mean:  32.3349 Std:  0.0000\n",
            "taking-moud subject-effect-arguments Mean:  7.8731 Std:  0.0000\n",
            "relapse main-arguments Mean:  7.0914 Std:  0.0000\n",
            "relapse event-specific-arguments Mean:  18.5748 Std:  0.0000\n",
            "relapse subject-effect-arguments Mean:  14.6620 Std:  0.0000\n",
            "tapering main-arguments Mean:  10.0672 Std:  0.0000\n",
            "tapering event-specific-arguments Mean:  33.5805 Std:  0.0000\n",
            "tapering subject-effect-arguments Mean:  10.8117 Std:  0.0000\n",
            "\n",
            "Overall:\n",
            "generative-qa-flan-t5-large 0.99 Mean:  15.5671 Std:  0.0000\n",
            "*************************************\n",
            "\n"
          ]
        }
      ]
    },
    {
      "cell_type": "code",
      "source": [],
      "metadata": {
        "id": "nIoXg57exIMy"
      },
      "execution_count": null,
      "outputs": []
    }
  ]
}